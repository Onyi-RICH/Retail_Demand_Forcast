{
 "cells": [
  {
   "cell_type": "markdown",
   "metadata": {
    "id": "Ud1-FtGezKgB"
   },
   "source": [
    "# Corporación Favorita Grocery Sales Forecasting Project\n"
   ]
  },
  {
   "cell_type": "markdown",
   "metadata": {
    "id": "zU4JKZAoolXb"
   },
   "source": [
    "# Part 1- Installation and Liberaries importation"
   ]
  },
  {
   "cell_type": "markdown",
   "metadata": {
    "id": "CkMbQmkHPZs8"
   },
   "source": [
    "✅ Step 0: Install Required Packages"
   ]
  },
  {
   "cell_type": "code",
   "execution_count": 3,
   "metadata": {
    "colab": {
     "base_uri": "https://localhost:8080/"
    },
    "id": "CZJRYm4FMGqS",
    "outputId": "311bbda7-5fc1-45f2-feb8-a50fb6773f14"
   },
   "outputs": [],
   "source": [
    "#!pip install -U gdown\n",
    "#!pip install statsmodels"
   ]
  },
  {
   "cell_type": "markdown",
   "metadata": {
    "id": "FjIf1k-PPh8V"
   },
   "source": [
    "✅ Step 1: Import Libraries"
   ]
  },
  {
   "cell_type": "code",
   "execution_count": 30,
   "metadata": {
    "id": "ur0auwz4PmeL"
   },
   "outputs": [],
   "source": [
    "#  Ignore warning suggetions given by Python\n",
    "import warnings\n",
    "warnings.filterwarnings(\"ignore\")\n",
    "\n",
    "import pandas as pd\n",
    "import numpy as np\n",
    "import requests\n",
    "import gdown\n",
    "import io\n",
    "\n",
    "from matplotlib import pyplot as plt\n",
    "import seaborn as sns\n",
    "\n",
    "#from google.colab import drive\n",
    "from statsmodels.tsa.stattools import adfuller\n",
    "from statsmodels.tsa.seasonal import seasonal_decompose\n",
    "from statsmodels.graphics.tsaplots import plot_acf, plot_pacf"
   ]
  },
  {
   "cell_type": "code",
   "execution_count": 31,
   "metadata": {
    "id": "yxdZL9xkJgyC"
   },
   "outputs": [],
   "source": [
    "# Build the download URL from a file ID\n",
    "def make_drive_url(file_id):\n",
    "    return f\"https://drive.google.com/uc?id={file_id}\"\n",
    "\n",
    "# Helper function to load a CSV from a direct URL\n",
    "def load_csv_from_url(url):\n",
    "    response = requests.get(url)\n",
    "    response.raise_for_status()  # Raises an error if the request fails\n",
    "    return pd.read_csv(io.StringIO(response.text))"
   ]
  },
  {
   "cell_type": "markdown",
   "metadata": {
    "id": "Nyz1YAMJPtwv"
   },
   "source": [
    "✅ Step 2: Dictionary of file IDs for clarity"
   ]
  },
  {
   "cell_type": "code",
   "execution_count": 32,
   "metadata": {
    "id": "iLbp-LqfKGT_"
   },
   "outputs": [],
   "source": [
    "file_ids = {\n",
    "    \"holiday_events\": \"1RMjSuqHXHTwAw_PGD5XVjhA3agaAGHDH\",\n",
    "    \"items\": \"1ogMRixVhNY6XOJtIRtkRllyOyzw1nqya\",\n",
    "    \"oil\": \"1Q59vk2v4WQ-Rpc9t2nqHcsZM3QWGFje_\",\n",
    "    \"stores\": \"1Ei0MUXmNhmOcmrlPad8oklnFEDM95cDi\",\n",
    "    \"train\": \"1oEX8NEJPY7wPmSJ0n7lO1JUFYyZjFBRv\",\n",
    "    \"transactions\": \"1PW5LnAEAiL43fI5CRDn_h6pgDG5rtBW_\"\n",
    "}"
   ]
  },
  {
   "cell_type": "markdown",
   "metadata": {
    "id": "alRGBrvVKPGf"
   },
   "source": [
    "✅ Step 3: Load each CSV using the helper functions"
   ]
  },
  {
   "cell_type": "code",
   "execution_count": 33,
   "metadata": {
    "id": "zdHRs8poKzWh"
   },
   "outputs": [],
   "source": [
    "# Load all files using the helper functions except train.csv\n",
    "\n",
    "df_holiday_events = load_csv_from_url(make_drive_url(file_ids[\"holiday_events\"]))\n",
    "df_items          = load_csv_from_url(make_drive_url(file_ids[\"items\"]))\n",
    "df_oil            = load_csv_from_url(make_drive_url(file_ids[\"oil\"]))\n",
    "df_stores         = load_csv_from_url(make_drive_url(file_ids[\"stores\"]))\n",
    "df_transactions   = load_csv_from_url(make_drive_url(file_ids[\"transactions\"]))\n",
    "# df_train          = load_csv_from_url(make_drive_url(file_ids[\"train\"]))\n",
    "\n",
    "# Note: train file is very large.\n",
    "# To make sure we fit RAM avaible on Google-Colab, we will load only part of the file\n"
   ]
  },
  {
   "cell_type": "code",
   "execution_count": 34,
   "metadata": {
    "colab": {
     "base_uri": "https://localhost:8080/",
     "height": 961
    },
    "id": "0Zcm0uvXSa3T",
    "outputId": "777d0d73-07a9-415d-b053-06fa0a96524d"
   },
   "outputs": [
    {
     "data": {
      "text/html": [
       "<div>\n",
       "<style scoped>\n",
       "    .dataframe tbody tr th:only-of-type {\n",
       "        vertical-align: middle;\n",
       "    }\n",
       "\n",
       "    .dataframe tbody tr th {\n",
       "        vertical-align: top;\n",
       "    }\n",
       "\n",
       "    .dataframe thead th {\n",
       "        text-align: right;\n",
       "    }\n",
       "</style>\n",
       "<table border=\"1\" class=\"dataframe\">\n",
       "  <thead>\n",
       "    <tr style=\"text-align: right;\">\n",
       "      <th></th>\n",
       "      <th>store_nbr</th>\n",
       "      <th>city</th>\n",
       "      <th>state</th>\n",
       "      <th>type</th>\n",
       "      <th>cluster</th>\n",
       "    </tr>\n",
       "  </thead>\n",
       "  <tbody>\n",
       "    <tr>\n",
       "      <th>0</th>\n",
       "      <td>1</td>\n",
       "      <td>Quito</td>\n",
       "      <td>Pichincha</td>\n",
       "      <td>D</td>\n",
       "      <td>13</td>\n",
       "    </tr>\n",
       "    <tr>\n",
       "      <th>1</th>\n",
       "      <td>2</td>\n",
       "      <td>Quito</td>\n",
       "      <td>Pichincha</td>\n",
       "      <td>D</td>\n",
       "      <td>13</td>\n",
       "    </tr>\n",
       "    <tr>\n",
       "      <th>2</th>\n",
       "      <td>3</td>\n",
       "      <td>Quito</td>\n",
       "      <td>Pichincha</td>\n",
       "      <td>D</td>\n",
       "      <td>8</td>\n",
       "    </tr>\n",
       "    <tr>\n",
       "      <th>3</th>\n",
       "      <td>4</td>\n",
       "      <td>Quito</td>\n",
       "      <td>Pichincha</td>\n",
       "      <td>D</td>\n",
       "      <td>9</td>\n",
       "    </tr>\n",
       "    <tr>\n",
       "      <th>4</th>\n",
       "      <td>5</td>\n",
       "      <td>Santo Domingo</td>\n",
       "      <td>Santo Domingo de los Tsachilas</td>\n",
       "      <td>D</td>\n",
       "      <td>4</td>\n",
       "    </tr>\n",
       "  </tbody>\n",
       "</table>\n",
       "</div>"
      ],
      "text/plain": [
       "   store_nbr           city                           state type  cluster\n",
       "0          1          Quito                       Pichincha    D       13\n",
       "1          2          Quito                       Pichincha    D       13\n",
       "2          3          Quito                       Pichincha    D        8\n",
       "3          4          Quito                       Pichincha    D        9\n",
       "4          5  Santo Domingo  Santo Domingo de los Tsachilas    D        4"
      ]
     },
     "metadata": {},
     "output_type": "display_data"
    },
    {
     "data": {
      "text/html": [
       "<div>\n",
       "<style scoped>\n",
       "    .dataframe tbody tr th:only-of-type {\n",
       "        vertical-align: middle;\n",
       "    }\n",
       "\n",
       "    .dataframe tbody tr th {\n",
       "        vertical-align: top;\n",
       "    }\n",
       "\n",
       "    .dataframe thead th {\n",
       "        text-align: right;\n",
       "    }\n",
       "</style>\n",
       "<table border=\"1\" class=\"dataframe\">\n",
       "  <thead>\n",
       "    <tr style=\"text-align: right;\">\n",
       "      <th></th>\n",
       "      <th>item_nbr</th>\n",
       "      <th>family</th>\n",
       "      <th>class</th>\n",
       "      <th>perishable</th>\n",
       "    </tr>\n",
       "  </thead>\n",
       "  <tbody>\n",
       "    <tr>\n",
       "      <th>0</th>\n",
       "      <td>96995</td>\n",
       "      <td>GROCERY I</td>\n",
       "      <td>1093</td>\n",
       "      <td>0</td>\n",
       "    </tr>\n",
       "    <tr>\n",
       "      <th>1</th>\n",
       "      <td>99197</td>\n",
       "      <td>GROCERY I</td>\n",
       "      <td>1067</td>\n",
       "      <td>0</td>\n",
       "    </tr>\n",
       "    <tr>\n",
       "      <th>2</th>\n",
       "      <td>103501</td>\n",
       "      <td>CLEANING</td>\n",
       "      <td>3008</td>\n",
       "      <td>0</td>\n",
       "    </tr>\n",
       "    <tr>\n",
       "      <th>3</th>\n",
       "      <td>103520</td>\n",
       "      <td>GROCERY I</td>\n",
       "      <td>1028</td>\n",
       "      <td>0</td>\n",
       "    </tr>\n",
       "    <tr>\n",
       "      <th>4</th>\n",
       "      <td>103665</td>\n",
       "      <td>BREAD/BAKERY</td>\n",
       "      <td>2712</td>\n",
       "      <td>1</td>\n",
       "    </tr>\n",
       "  </tbody>\n",
       "</table>\n",
       "</div>"
      ],
      "text/plain": [
       "   item_nbr        family  class  perishable\n",
       "0     96995     GROCERY I   1093           0\n",
       "1     99197     GROCERY I   1067           0\n",
       "2    103501      CLEANING   3008           0\n",
       "3    103520     GROCERY I   1028           0\n",
       "4    103665  BREAD/BAKERY   2712           1"
      ]
     },
     "metadata": {},
     "output_type": "display_data"
    },
    {
     "data": {
      "text/html": [
       "<div>\n",
       "<style scoped>\n",
       "    .dataframe tbody tr th:only-of-type {\n",
       "        vertical-align: middle;\n",
       "    }\n",
       "\n",
       "    .dataframe tbody tr th {\n",
       "        vertical-align: top;\n",
       "    }\n",
       "\n",
       "    .dataframe thead th {\n",
       "        text-align: right;\n",
       "    }\n",
       "</style>\n",
       "<table border=\"1\" class=\"dataframe\">\n",
       "  <thead>\n",
       "    <tr style=\"text-align: right;\">\n",
       "      <th></th>\n",
       "      <th>date</th>\n",
       "      <th>type</th>\n",
       "      <th>locale</th>\n",
       "      <th>locale_name</th>\n",
       "      <th>description</th>\n",
       "      <th>transferred</th>\n",
       "    </tr>\n",
       "  </thead>\n",
       "  <tbody>\n",
       "    <tr>\n",
       "      <th>0</th>\n",
       "      <td>2012-03-02</td>\n",
       "      <td>Holiday</td>\n",
       "      <td>Local</td>\n",
       "      <td>Manta</td>\n",
       "      <td>Fundacion de Manta</td>\n",
       "      <td>False</td>\n",
       "    </tr>\n",
       "    <tr>\n",
       "      <th>1</th>\n",
       "      <td>2012-04-01</td>\n",
       "      <td>Holiday</td>\n",
       "      <td>Regional</td>\n",
       "      <td>Cotopaxi</td>\n",
       "      <td>Provincializacion de Cotopaxi</td>\n",
       "      <td>False</td>\n",
       "    </tr>\n",
       "    <tr>\n",
       "      <th>2</th>\n",
       "      <td>2012-04-12</td>\n",
       "      <td>Holiday</td>\n",
       "      <td>Local</td>\n",
       "      <td>Cuenca</td>\n",
       "      <td>Fundacion de Cuenca</td>\n",
       "      <td>False</td>\n",
       "    </tr>\n",
       "    <tr>\n",
       "      <th>3</th>\n",
       "      <td>2012-04-14</td>\n",
       "      <td>Holiday</td>\n",
       "      <td>Local</td>\n",
       "      <td>Libertad</td>\n",
       "      <td>Cantonizacion de Libertad</td>\n",
       "      <td>False</td>\n",
       "    </tr>\n",
       "    <tr>\n",
       "      <th>4</th>\n",
       "      <td>2012-04-21</td>\n",
       "      <td>Holiday</td>\n",
       "      <td>Local</td>\n",
       "      <td>Riobamba</td>\n",
       "      <td>Cantonizacion de Riobamba</td>\n",
       "      <td>False</td>\n",
       "    </tr>\n",
       "  </tbody>\n",
       "</table>\n",
       "</div>"
      ],
      "text/plain": [
       "         date     type    locale locale_name                    description  \\\n",
       "0  2012-03-02  Holiday     Local       Manta             Fundacion de Manta   \n",
       "1  2012-04-01  Holiday  Regional    Cotopaxi  Provincializacion de Cotopaxi   \n",
       "2  2012-04-12  Holiday     Local      Cuenca            Fundacion de Cuenca   \n",
       "3  2012-04-14  Holiday     Local    Libertad      Cantonizacion de Libertad   \n",
       "4  2012-04-21  Holiday     Local    Riobamba      Cantonizacion de Riobamba   \n",
       "\n",
       "   transferred  \n",
       "0        False  \n",
       "1        False  \n",
       "2        False  \n",
       "3        False  \n",
       "4        False  "
      ]
     },
     "metadata": {},
     "output_type": "display_data"
    },
    {
     "data": {
      "text/html": [
       "<div>\n",
       "<style scoped>\n",
       "    .dataframe tbody tr th:only-of-type {\n",
       "        vertical-align: middle;\n",
       "    }\n",
       "\n",
       "    .dataframe tbody tr th {\n",
       "        vertical-align: top;\n",
       "    }\n",
       "\n",
       "    .dataframe thead th {\n",
       "        text-align: right;\n",
       "    }\n",
       "</style>\n",
       "<table border=\"1\" class=\"dataframe\">\n",
       "  <thead>\n",
       "    <tr style=\"text-align: right;\">\n",
       "      <th></th>\n",
       "      <th>date</th>\n",
       "      <th>dcoilwtico</th>\n",
       "    </tr>\n",
       "  </thead>\n",
       "  <tbody>\n",
       "    <tr>\n",
       "      <th>0</th>\n",
       "      <td>2013-01-01</td>\n",
       "      <td>NaN</td>\n",
       "    </tr>\n",
       "    <tr>\n",
       "      <th>1</th>\n",
       "      <td>2013-01-02</td>\n",
       "      <td>93.14</td>\n",
       "    </tr>\n",
       "    <tr>\n",
       "      <th>2</th>\n",
       "      <td>2013-01-03</td>\n",
       "      <td>92.97</td>\n",
       "    </tr>\n",
       "    <tr>\n",
       "      <th>3</th>\n",
       "      <td>2013-01-04</td>\n",
       "      <td>93.12</td>\n",
       "    </tr>\n",
       "    <tr>\n",
       "      <th>4</th>\n",
       "      <td>2013-01-07</td>\n",
       "      <td>93.20</td>\n",
       "    </tr>\n",
       "  </tbody>\n",
       "</table>\n",
       "</div>"
      ],
      "text/plain": [
       "         date  dcoilwtico\n",
       "0  2013-01-01         NaN\n",
       "1  2013-01-02       93.14\n",
       "2  2013-01-03       92.97\n",
       "3  2013-01-04       93.12\n",
       "4  2013-01-07       93.20"
      ]
     },
     "metadata": {},
     "output_type": "display_data"
    },
    {
     "data": {
      "text/html": [
       "<div>\n",
       "<style scoped>\n",
       "    .dataframe tbody tr th:only-of-type {\n",
       "        vertical-align: middle;\n",
       "    }\n",
       "\n",
       "    .dataframe tbody tr th {\n",
       "        vertical-align: top;\n",
       "    }\n",
       "\n",
       "    .dataframe thead th {\n",
       "        text-align: right;\n",
       "    }\n",
       "</style>\n",
       "<table border=\"1\" class=\"dataframe\">\n",
       "  <thead>\n",
       "    <tr style=\"text-align: right;\">\n",
       "      <th></th>\n",
       "      <th>date</th>\n",
       "      <th>store_nbr</th>\n",
       "      <th>transactions</th>\n",
       "    </tr>\n",
       "  </thead>\n",
       "  <tbody>\n",
       "    <tr>\n",
       "      <th>0</th>\n",
       "      <td>2013-01-01</td>\n",
       "      <td>25</td>\n",
       "      <td>770</td>\n",
       "    </tr>\n",
       "    <tr>\n",
       "      <th>1</th>\n",
       "      <td>2013-01-02</td>\n",
       "      <td>1</td>\n",
       "      <td>2111</td>\n",
       "    </tr>\n",
       "    <tr>\n",
       "      <th>2</th>\n",
       "      <td>2013-01-02</td>\n",
       "      <td>2</td>\n",
       "      <td>2358</td>\n",
       "    </tr>\n",
       "    <tr>\n",
       "      <th>3</th>\n",
       "      <td>2013-01-02</td>\n",
       "      <td>3</td>\n",
       "      <td>3487</td>\n",
       "    </tr>\n",
       "    <tr>\n",
       "      <th>4</th>\n",
       "      <td>2013-01-02</td>\n",
       "      <td>4</td>\n",
       "      <td>1922</td>\n",
       "    </tr>\n",
       "  </tbody>\n",
       "</table>\n",
       "</div>"
      ],
      "text/plain": [
       "         date  store_nbr  transactions\n",
       "0  2013-01-01         25           770\n",
       "1  2013-01-02          1          2111\n",
       "2  2013-01-02          2          2358\n",
       "3  2013-01-02          3          3487\n",
       "4  2013-01-02          4          1922"
      ]
     },
     "metadata": {},
     "output_type": "display_data"
    }
   ],
   "source": [
    "# Quick Test to Confirm\n",
    "display(df_stores.head())\n",
    "display(df_items.head())\n",
    "display(df_holiday_events.head())\n",
    "display(df_oil.head())\n",
    "display(df_transactions.head())\n"
   ]
  },
  {
   "cell_type": "markdown",
   "metadata": {
    "id": "x1h8r0xbQrot"
   },
   "source": [
    "What each dataframe represents:\n",
    "- df_train – daily sales by store and product\n",
    "- df_items – details about each item\n",
    "- df_stores – store locations and types\n",
    "- df_oil – oil prices (a possible external influence on sales)\n",
    "- df_transactions – total store traffic per day\n",
    "- df_holiday_events – national/local holidays and special events"
   ]
  },
  {
   "cell_type": "code",
   "execution_count": 35,
   "metadata": {
    "colab": {
     "base_uri": "https://localhost:8080/"
    },
    "id": "iYxrgKg_RvC2",
    "outputId": "ac689987-b225-4d1a-c95b-fc9790825a92"
   },
   "outputs": [
    {
     "name": "stderr",
     "output_type": "stream",
     "text": [
      "Downloading...\n",
      "From (original): https://drive.google.com/uc?id=1oEX8NEJPY7wPmSJ0n7lO1JUFYyZjFBRv\n",
      "From (redirected): https://drive.google.com/uc?id=1oEX8NEJPY7wPmSJ0n7lO1JUFYyZjFBRv&confirm=t&uuid=6e6ec0b2-5e13-43d2-914f-96ec65f71d18\n",
      "To: C:\\Users\\onyiu\\Documents\\python_code\\favorita_project\\train.csv\n",
      "100%|█████████████████████████████████████████████████████████████████████████████| 5.00G/5.00G [13:47<00:00, 6.04MB/s]\n"
     ]
    },
    {
     "data": {
      "text/plain": [
       "'train.csv'"
      ]
     },
     "execution_count": 35,
     "metadata": {},
     "output_type": "execute_result"
    }
   ],
   "source": [
    "# Download the train.csv file using gdown\n",
    "train_url = make_drive_url(file_ids[\"train\"])\n",
    "gdown.download(train_url, \"train.csv\", quiet=False)"
   ]
  },
  {
   "cell_type": "markdown",
   "metadata": {
    "id": "Cj5vqQvjYSwj"
   },
   "source": [
    "# Part 2: Exploratory Data Analysis (EDA)"
   ]
  },
  {
   "cell_type": "markdown",
   "metadata": {
    "id": "M2KD9sSgUoJx"
   },
   "source": [
    " We need to filter out the data to get **only Guayas region**.\n",
    "\n",
    "we can experiment with different chunksize values.\n",
    "A chunksize of 100,000 to 1,000,000 rows is a good starting point.\n"
   ]
  },
  {
   "cell_type": "code",
   "execution_count": 36,
   "metadata": {
    "id": "DurZGGSlWmqM"
   },
   "outputs": [],
   "source": [
    "# Select list of stores located in the 'Guayas' region\n",
    "store_ids = df_stores[df_stores['state'] == 'Guayas']['store_nbr'].unique()\n",
    "\n",
    "# Initialize an empty list to hold filtered chunks\n",
    "filtered_chunks = []\n",
    "\n",
    "# Define the chunk size (number of rows per chunk)\n",
    "chunk_size = 10 ** 6              # Read 1 million rows at a time & Adjust based on system's memory capacity\n",
    "\n",
    "# Read the CSV file in chunks\n",
    "for chunk in pd.read_csv('./train.csv', chunksize=chunk_size):\n",
    "  chunk_filtered = chunk[chunk['store_nbr'].isin(store_ids)]  # Filter the chunk for the desired store IDs\n",
    "  filtered_chunks.append(chunk_filtered)                    # Append the filtered chunk to the list\n",
    "\n",
    "  del chunk                                                 # Delete the chunk to free up memory\n",
    "\n",
    "# Concatenate all filtered chunks into a single DataFrame\n",
    "df_train = pd.concat(filtered_chunks, ignore_index=True)      # ignore index set to TRUE, so that we don't have any problems during concatenation.\n",
    "\n",
    "\n",
    "\n",
    "del filtered_chunks             # Delect and Clean up to free memory"
   ]
  },
  {
   "cell_type": "code",
   "execution_count": 37,
   "metadata": {
    "colab": {
     "base_uri": "https://localhost:8080/"
    },
    "id": "0hjwP73rPeZT",
    "outputId": "29655684-36ae-4ce0-ab45-e771f9cdba2d"
   },
   "outputs": [
    {
     "data": {
      "text/plain": [
       "(22941656, 6)"
      ]
     },
     "execution_count": 37,
     "metadata": {},
     "output_type": "execute_result"
    }
   ],
   "source": [
    "df_train.shape"
   ]
  },
  {
   "cell_type": "markdown",
   "metadata": {
    "id": "rD37t4txZ3zR"
   },
   "source": [
    "The dataset that we have is still very big even after filtering. To prevent our work from unexpected crashes, let's limit the dataset to include only top-3 families by number of items but first let's look at this top-3:"
   ]
  },
  {
   "cell_type": "code",
   "execution_count": 38,
   "metadata": {
    "colab": {
     "base_uri": "https://localhost:8080/",
     "height": 525
    },
    "id": "H5Agv6bfX0Kr",
    "outputId": "6cc291c0-51bf-418e-e740-f14399c2fce8"
   },
   "outputs": [
    {
     "data": {
      "image/png": "[encoded data removed]",
      "text/plain": [
       "<Figure size 800x500 with 1 Axes>"
      ]
     },
     "metadata": {},
     "output_type": "display_data"
    },
    {
     "data": {
      "text/plain": [
       "'\\nwe have groceries, beverages and cleaning.\\nSo these are top 3 families of items that customers normally purchase.\\nthis is a part of EDA exploratory data analysis.\\n'"
      ]
     },
     "execution_count": 38,
     "metadata": {},
     "output_type": "execute_result"
    }
   ],
   "source": [
    "# # Compute the number of items per family and select the top 3 families\n",
    "items_per_family = df_items['family'].value_counts().reset_index()\n",
    "items_per_family.columns = ['Family','Item Count'] # rename items_per_family\n",
    "top_3_families = items_per_family.head(3) # [:3]  #  no need to do any sorting, because Value counts already returns it in descending order.\n",
    "\n",
    "# plot the top 3 family\n",
    "plt.figure(figsize = (8,5))\n",
    "plt.bar(top_3_families['Family'], top_3_families['Item Count'],\n",
    "        color = 'skyblue', edgecolor = 'black')\n",
    "plt.title('Top 3 Families by Number of Items')\n",
    "plt.xlabel(\"Family\", fontsize=16)\n",
    "plt.ylabel(\"Number of Items\", fontsize=16)\n",
    "plt.xticks(fontsize=14, rotation=45)\n",
    "plt.tight_layout()\n",
    "plt.show()\n",
    "\n",
    "\"\"\"\n",
    "we have groceries, beverages and cleaning.\n",
    "So these are top 3 families of items that customers normally purchase.\n",
    "this is a part of EDA exploratory data analysis.\n",
    "\"\"\""
   ]
  },
  {
   "cell_type": "markdown",
   "metadata": {
    "id": "Dvv2WiSkcZ9r"
   },
   "source": [
    "we want to filter a little further."
   ]
  },
  {
   "cell_type": "code",
   "execution_count": 39,
   "metadata": {
    "id": "4HVqYJgRX1g1"
   },
   "outputs": [],
   "source": [
    "#  filtering items that only belong to groceries, beverages, and cleaning.\n",
    "# And use this list of items to filter training dataset.\n",
    "\n",
    "item_ids = df_items[df_items['family'].isin(top_3_families['Family'].unique())]['item_nbr'].unique()\n",
    "df_train = df_train[df_train['item_nbr'].isin(item_ids)]          # Df train will be the DF train where df_train item number is in item_ids.\n"
   ]
  },
  {
   "cell_type": "code",
   "execution_count": 40,
   "metadata": {},
   "outputs": [
    {
     "data": {
      "text/plain": [
       "(14745768, 6)"
      ]
     },
     "execution_count": 40,
     "metadata": {},
     "output_type": "execute_result"
    }
   ],
   "source": [
    "df_train.shape"
   ]
  },
  {
   "cell_type": "code",
   "execution_count": 41,
   "metadata": {},
   "outputs": [
    {
     "name": "stdout",
     "output_type": "stream",
     "text": [
      "Filtered dataset size: 14,745,768 rows\n",
      "Sampled down to 2,000,000 rows\n"
     ]
    }
   ],
   "source": [
    "# Sample to 2 Millons\n",
    "df_train_filtered = df_train.copy()\n",
    "print(f\"Filtered dataset size: {len(df_train_filtered):,} rows\")\n",
    "\n",
    "if len(df_train_filtered) > 2_000_000:\n",
    "    df_train_sample = df_train_filtered.sample(n=2_000_000, random_state=42).copy()\n",
    "    print(f\"Sampled down to {len(df_train_sample):,} rows\")\n",
    "else:\n",
    "    df_train_sample = df_train_filtered.copy()\n",
    "    print(f\"Dataset sample now has {len(df_train_sample):,} rows\")\n",
    "\n",
    "# Update master_df to use the sampled version for analysis\n",
    "df_train = df_train_sample.copy()"
   ]
  },
  {
   "cell_type": "markdown",
   "metadata": {
    "id": "e8OGYzGceUrn"
   },
   "source": [
    "From around 22.9 millions of rows to around 2 millions. This is our reduction."
   ]
  },
  {
   "cell_type": "code",
   "execution_count": 43,
   "metadata": {
    "colab": {
     "base_uri": "https://localhost:8080/"
    },
    "id": "VQ2OAoLWX1a3",
    "outputId": "07881a29-ba33-4e19-e29c-8671ffac6c7a"
   },
   "outputs": [
    {
     "data": {
      "text/plain": [
       "id                  0\n",
       "date                0\n",
       "store_nbr           0\n",
       "item_nbr            0\n",
       "unit_sales          0\n",
       "onpromotion    372449\n",
       "dtype: int64"
      ]
     },
     "execution_count": 43,
     "metadata": {},
     "output_type": "execute_result"
    }
   ],
   "source": [
    "# Checking missing values\n",
    "df_train.isnull().sum()"
   ]
  },
  {
   "cell_type": "markdown",
   "metadata": {
    "id": "YuPiUjD2edKR"
   },
   "source": [
    "# Part 3: Data Preprocessing or preparation"
   ]
  },
  {
   "cell_type": "markdown",
   "metadata": {
    "id": "abpJ8p0bfaDi"
   },
   "source": [
    "**step 3.1 Handling missing value**"
   ]
  },
  {
   "cell_type": "code",
   "execution_count": 44,
   "metadata": {
    "colab": {
     "base_uri": "https://localhost:8080/"
    },
    "id": "uaIOk2A9X1YG",
    "outputId": "b02698ce-593d-48a1-a6a3-d538305d95b4"
   },
   "outputs": [
    {
     "data": {
      "text/plain": [
       "onpromotion\n",
       "False    1534722\n",
       "True       92829\n",
       "Name: count, dtype: int64"
      ]
     },
     "execution_count": 44,
     "metadata": {},
     "output_type": "execute_result"
    }
   ],
   "source": [
    "df_train['onpromotion'].value_counts()  # check the value count"
   ]
  },
  {
   "cell_type": "code",
   "execution_count": 45,
   "metadata": {
    "id": "n5oALwyceXJR"
   },
   "outputs": [],
   "source": [
    "# Imputate or fill them with FALSE(to most occured values)\n",
    "df_train.fillna({'onpromotion': False}, inplace=True)"
   ]
  },
  {
   "cell_type": "code",
   "execution_count": 46,
   "metadata": {
    "colab": {
     "base_uri": "https://localhost:8080/"
    },
    "id": "hVtjdQsHUZwQ",
    "outputId": "698878e1-10df-495f-bcea-3165264595bb"
   },
   "outputs": [
    {
     "name": "stdout",
     "output_type": "stream",
     "text": [
      "Missing values after filling 'onpromotion':\n",
      "id             0\n",
      "date           0\n",
      "store_nbr      0\n",
      "item_nbr       0\n",
      "unit_sales     0\n",
      "onpromotion    0\n",
      "dtype: int64\n"
     ]
    }
   ],
   "source": [
    "# Verify that the missing values are now handled\n",
    "print(\"Missing values after filling 'onpromotion':\")\n",
    "print(df_train.isnull().sum())"
   ]
  },
  {
   "cell_type": "markdown",
   "metadata": {
    "id": "fjQZakKJibea"
   },
   "source": [
    "**Step 3.2: Check Target variable for any negative values in Unit sales and check for outliers**\n",
    "\n",
    "\n",
    "\n"
   ]
  },
  {
   "cell_type": "markdown",
   "metadata": {
    "id": "5-1KFtBUsC1s"
   },
   "source": [
    "check if there are negative unit sales(returned items)"
   ]
  },
  {
   "cell_type": "code",
   "execution_count": 47,
   "metadata": {
    "colab": {
     "base_uri": "https://localhost:8080/"
    },
    "id": "dI0dTh-aX1Vi",
    "outputId": "118cc5f3-ca9c-4f9b-fc5b-5ca8c6b36312"
   },
   "outputs": [
    {
     "name": "stdout",
     "output_type": "stream",
     "text": [
      "Number of rows with negative sales: 100\n"
     ]
    },
    {
     "data": {
      "text/html": [
       "<div>\n",
       "<style scoped>\n",
       "    .dataframe tbody tr th:only-of-type {\n",
       "        vertical-align: middle;\n",
       "    }\n",
       "\n",
       "    .dataframe tbody tr th {\n",
       "        vertical-align: top;\n",
       "    }\n",
       "\n",
       "    .dataframe thead th {\n",
       "        text-align: right;\n",
       "    }\n",
       "</style>\n",
       "<table border=\"1\" class=\"dataframe\">\n",
       "  <thead>\n",
       "    <tr style=\"text-align: right;\">\n",
       "      <th></th>\n",
       "      <th>id</th>\n",
       "      <th>date</th>\n",
       "      <th>store_nbr</th>\n",
       "      <th>item_nbr</th>\n",
       "      <th>unit_sales</th>\n",
       "      <th>onpromotion</th>\n",
       "    </tr>\n",
       "  </thead>\n",
       "  <tbody>\n",
       "    <tr>\n",
       "      <th>10547565</th>\n",
       "      <td>57419947</td>\n",
       "      <td>2015-09-24</td>\n",
       "      <td>29</td>\n",
       "      <td>1463484</td>\n",
       "      <td>-5.0</td>\n",
       "      <td>False</td>\n",
       "    </tr>\n",
       "    <tr>\n",
       "      <th>13034064</th>\n",
       "      <td>71021589</td>\n",
       "      <td>2016-02-19</td>\n",
       "      <td>27</td>\n",
       "      <td>472314</td>\n",
       "      <td>-1.0</td>\n",
       "      <td>False</td>\n",
       "    </tr>\n",
       "    <tr>\n",
       "      <th>54236</th>\n",
       "      <td>309805</td>\n",
       "      <td>2013-01-09</td>\n",
       "      <td>35</td>\n",
       "      <td>1079215</td>\n",
       "      <td>-8.0</td>\n",
       "      <td>False</td>\n",
       "    </tr>\n",
       "    <tr>\n",
       "      <th>20807971</th>\n",
       "      <td>113492918</td>\n",
       "      <td>2017-04-24</td>\n",
       "      <td>35</td>\n",
       "      <td>305344</td>\n",
       "      <td>-2.0</td>\n",
       "      <td>False</td>\n",
       "    </tr>\n",
       "    <tr>\n",
       "      <th>4436262</th>\n",
       "      <td>24310381</td>\n",
       "      <td>2014-05-24</td>\n",
       "      <td>36</td>\n",
       "      <td>155625</td>\n",
       "      <td>-2.0</td>\n",
       "      <td>False</td>\n",
       "    </tr>\n",
       "  </tbody>\n",
       "</table>\n",
       "</div>"
      ],
      "text/plain": [
       "                 id        date  store_nbr  item_nbr  unit_sales  onpromotion\n",
       "10547565   57419947  2015-09-24         29   1463484        -5.0        False\n",
       "13034064   71021589  2016-02-19         27    472314        -1.0        False\n",
       "54236        309805  2013-01-09         35   1079215        -8.0        False\n",
       "20807971  113492918  2017-04-24         35    305344        -2.0        False\n",
       "4436262    24310381  2014-05-24         36    155625        -2.0        False"
      ]
     },
     "execution_count": 47,
     "metadata": {},
     "output_type": "execute_result"
    }
   ],
   "source": [
    "negative_sales = df_train[df_train['unit_sales']<0]\n",
    "print(\"Number of rows with negative sales:\", len(negative_sales))\n",
    "negative_sales.head()"
   ]
  },
  {
   "cell_type": "markdown",
   "metadata": {
    "id": "sRuqWJttorMB"
   },
   "source": [
    "**Handling negative values in Unit sales(Target)**\n",
    "\n",
    "we basically want to justify they were not sold but were returned by replacing or transforming them with 0."
   ]
  },
  {
   "cell_type": "code",
   "execution_count": 48,
   "metadata": {
    "id": "uE7iXjmYX1TC"
   },
   "outputs": [],
   "source": [
    "#df_train['unit_sales'] = df_train['unit_sales'].apply(lambda x: max(x,0))\n",
    "#print(df_train.head())"
   ]
  },
  {
   "cell_type": "markdown",
   "metadata": {
    "id": "EEpbH3SEp284"
   },
   "source": [
    "**Detecting Outliers**\n",
    "\n",
    "The Z-score method is useful for detecting extreme values that are statistically unlikely.\n"
   ]
  },
  {
   "cell_type": "code",
   "execution_count": 49,
   "metadata": {
    "id": "gjmFCNJaX1N2"
   },
   "outputs": [],
   "source": [
    "# Function to calculate Z-score for each group (store-item combination)\n",
    "\n",
    "def calculate_store_item_zscore(group):   # defined a function calculate store item and group as my vector\n",
    "  # Compute mean and standard deviation for each store-item group\n",
    "  mean_sales = group['unit_sales'].mean()\n",
    "  std_sales = group['unit_sales'].std()\n",
    "\n",
    "  # Calculate Z-score (avoiding division by zero for standard deviation)\n",
    "  group['z_score'] = (group['unit_sales'] - mean_sales)/(std_sales if std_sales !=0 else 1)\n",
    "  return group                                 # !=0 avoid division by 0.if Std sales doesn't equal to 0, else let's set it to one."
   ]
  },
  {
   "cell_type": "code",
   "execution_count": 50,
   "metadata": {
    "id": "g1HsVDE2X1LT"
   },
   "outputs": [],
   "source": [
    "# Lets group our data by store_number and item_number.\n",
    "# we will calculate the Z score and apply function defined above\n",
    "\n",
    "df_train_grouped = df_train.groupby(['store_nbr', 'item_nbr']).apply(calculate_store_item_zscore)     # this is how the group is formed\n",
    "df_train_grouped.reset_index(drop=True, inplace=True)              # this will result in store and item being in the index, so I can reset them to become again the columns using (drop=True, inplace=True)"
   ]
  },
  {
   "cell_type": "code",
   "execution_count": 51,
   "metadata": {},
   "outputs": [
    {
     "data": {
      "text/plain": [
       "Index(['id', 'date', 'store_nbr', 'item_nbr', 'unit_sales', 'onpromotion',\n",
       "       'z_score'],\n",
       "      dtype='object')"
      ]
     },
     "execution_count": 51,
     "metadata": {},
     "output_type": "execute_result"
    }
   ],
   "source": [
    "df_train_grouped.columns"
   ]
  },
  {
   "cell_type": "code",
   "execution_count": 52,
   "metadata": {},
   "outputs": [
    {
     "data": {
      "text/html": [
       "<div>\n",
       "<style scoped>\n",
       "    .dataframe tbody tr th:only-of-type {\n",
       "        vertical-align: middle;\n",
       "    }\n",
       "\n",
       "    .dataframe tbody tr th {\n",
       "        vertical-align: top;\n",
       "    }\n",
       "\n",
       "    .dataframe thead th {\n",
       "        text-align: right;\n",
       "    }\n",
       "</style>\n",
       "<table border=\"1\" class=\"dataframe\">\n",
       "  <thead>\n",
       "    <tr style=\"text-align: right;\">\n",
       "      <th></th>\n",
       "      <th>id</th>\n",
       "      <th>date</th>\n",
       "      <th>store_nbr</th>\n",
       "      <th>item_nbr</th>\n",
       "      <th>unit_sales</th>\n",
       "      <th>onpromotion</th>\n",
       "      <th>z_score</th>\n",
       "    </tr>\n",
       "  </thead>\n",
       "  <tbody>\n",
       "    <tr>\n",
       "      <th>27</th>\n",
       "      <td>15666702</td>\n",
       "      <td>2013-12-18</td>\n",
       "      <td>24</td>\n",
       "      <td>96995</td>\n",
       "      <td>14.0</td>\n",
       "      <td>False</td>\n",
       "      <td>5.346375</td>\n",
       "    </tr>\n",
       "    <tr>\n",
       "      <th>674</th>\n",
       "      <td>10018360</td>\n",
       "      <td>2013-08-21</td>\n",
       "      <td>24</td>\n",
       "      <td>105577</td>\n",
       "      <td>12.0</td>\n",
       "      <td>False</td>\n",
       "      <td>5.979581</td>\n",
       "    </tr>\n",
       "    <tr>\n",
       "      <th>1008</th>\n",
       "      <td>3455319</td>\n",
       "      <td>2013-03-26</td>\n",
       "      <td>24</td>\n",
       "      <td>105737</td>\n",
       "      <td>43.0</td>\n",
       "      <td>False</td>\n",
       "      <td>6.076956</td>\n",
       "    </tr>\n",
       "    <tr>\n",
       "      <th>1149</th>\n",
       "      <td>100977595</td>\n",
       "      <td>2016-12-24</td>\n",
       "      <td>24</td>\n",
       "      <td>105857</td>\n",
       "      <td>46.0</td>\n",
       "      <td>False</td>\n",
       "      <td>7.973145</td>\n",
       "    </tr>\n",
       "    <tr>\n",
       "      <th>1355</th>\n",
       "      <td>15666710</td>\n",
       "      <td>2013-12-18</td>\n",
       "      <td>24</td>\n",
       "      <td>106716</td>\n",
       "      <td>18.0</td>\n",
       "      <td>False</td>\n",
       "      <td>5.109825</td>\n",
       "    </tr>\n",
       "    <tr>\n",
       "      <th>...</th>\n",
       "      <td>...</td>\n",
       "      <td>...</td>\n",
       "      <td>...</td>\n",
       "      <td>...</td>\n",
       "      <td>...</td>\n",
       "      <td>...</td>\n",
       "      <td>...</td>\n",
       "    </tr>\n",
       "    <tr>\n",
       "      <th>1996803</th>\n",
       "      <td>65485115</td>\n",
       "      <td>2015-12-20</td>\n",
       "      <td>51</td>\n",
       "      <td>2026597</td>\n",
       "      <td>33.0</td>\n",
       "      <td>False</td>\n",
       "      <td>5.088436</td>\n",
       "    </tr>\n",
       "    <tr>\n",
       "      <th>1997268</th>\n",
       "      <td>76611417</td>\n",
       "      <td>2016-04-17</td>\n",
       "      <td>51</td>\n",
       "      <td>2026893</td>\n",
       "      <td>16.0</td>\n",
       "      <td>False</td>\n",
       "      <td>5.087551</td>\n",
       "    </tr>\n",
       "    <tr>\n",
       "      <th>1997419</th>\n",
       "      <td>122354118</td>\n",
       "      <td>2017-07-16</td>\n",
       "      <td>51</td>\n",
       "      <td>2026945</td>\n",
       "      <td>26.0</td>\n",
       "      <td>False</td>\n",
       "      <td>5.221200</td>\n",
       "    </tr>\n",
       "    <tr>\n",
       "      <th>1998926</th>\n",
       "      <td>100817168</td>\n",
       "      <td>2016-12-22</td>\n",
       "      <td>51</td>\n",
       "      <td>2048182</td>\n",
       "      <td>27.0</td>\n",
       "      <td>False</td>\n",
       "      <td>5.144140</td>\n",
       "    </tr>\n",
       "    <tr>\n",
       "      <th>1999401</th>\n",
       "      <td>114286905</td>\n",
       "      <td>2017-05-01</td>\n",
       "      <td>51</td>\n",
       "      <td>2048609</td>\n",
       "      <td>48.0</td>\n",
       "      <td>False</td>\n",
       "      <td>5.029631</td>\n",
       "    </tr>\n",
       "  </tbody>\n",
       "</table>\n",
       "<p>6171 rows × 7 columns</p>\n",
       "</div>"
      ],
      "text/plain": [
       "                id        date  store_nbr  item_nbr  unit_sales  onpromotion  \\\n",
       "27        15666702  2013-12-18         24     96995        14.0        False   \n",
       "674       10018360  2013-08-21         24    105577        12.0        False   \n",
       "1008       3455319  2013-03-26         24    105737        43.0        False   \n",
       "1149     100977595  2016-12-24         24    105857        46.0        False   \n",
       "1355      15666710  2013-12-18         24    106716        18.0        False   \n",
       "...            ...         ...        ...       ...         ...          ...   \n",
       "1996803   65485115  2015-12-20         51   2026597        33.0        False   \n",
       "1997268   76611417  2016-04-17         51   2026893        16.0        False   \n",
       "1997419  122354118  2017-07-16         51   2026945        26.0        False   \n",
       "1998926  100817168  2016-12-22         51   2048182        27.0        False   \n",
       "1999401  114286905  2017-05-01         51   2048609        48.0        False   \n",
       "\n",
       "          z_score  \n",
       "27       5.346375  \n",
       "674      5.979581  \n",
       "1008     6.076956  \n",
       "1149     7.973145  \n",
       "1355     5.109825  \n",
       "...           ...  \n",
       "1996803  5.088436  \n",
       "1997268  5.087551  \n",
       "1997419  5.221200  \n",
       "1998926  5.144140  \n",
       "1999401  5.029631  \n",
       "\n",
       "[6171 rows x 7 columns]"
      ]
     },
     "execution_count": 52,
     "metadata": {},
     "output_type": "execute_result"
    }
   ],
   "source": [
    "# Define threshold for outliers (e.g., Z-score > 5)\n",
    "# we can define the threshold for the z-score and detect outliers:\n",
    "\n",
    "outliers = df_train_grouped[df_train_grouped['z_score'] > 5]\n",
    "outliers\n",
    "\n",
    "# There are many of these values but they don't look like errors. These are just big sales."
   ]
  },
  {
   "cell_type": "markdown",
   "metadata": {
    "id": "qkYHW310qJgT"
   },
   "source": [
    "**Handling Outliers**\n",
    "\n",
    "check if it is necessary later"
   ]
  },
  {
   "cell_type": "markdown",
   "metadata": {
    "id": "AeVhewny-T_o"
   },
   "source": [
    "**Step 3.4 - Handling missing Dates**\n",
    "\n",
    "Fill missing dates for particular item-store combinations with zero(0) sales"
   ]
  },
  {
   "cell_type": "code",
   "execution_count": 53,
   "metadata": {
    "colab": {
     "base_uri": "https://localhost:8080/"
    },
    "id": "GSVjGUWM_KKH",
    "outputId": "c03ad0bd-60ab-493a-f604-86915610ddef"
   },
   "outputs": [
    {
     "data": {
      "text/html": [
       "<div>\n",
       "<style scoped>\n",
       "    .dataframe tbody tr th:only-of-type {\n",
       "        vertical-align: middle;\n",
       "    }\n",
       "\n",
       "    .dataframe tbody tr th {\n",
       "        vertical-align: top;\n",
       "    }\n",
       "\n",
       "    .dataframe thead th {\n",
       "        text-align: right;\n",
       "    }\n",
       "</style>\n",
       "<table border=\"1\" class=\"dataframe\">\n",
       "  <thead>\n",
       "    <tr style=\"text-align: right;\">\n",
       "      <th></th>\n",
       "      <th>date</th>\n",
       "    </tr>\n",
       "  </thead>\n",
       "  <tbody>\n",
       "    <tr>\n",
       "      <th>0</th>\n",
       "      <td>2013-01-02</td>\n",
       "    </tr>\n",
       "    <tr>\n",
       "      <th>1</th>\n",
       "      <td>2013-01-03</td>\n",
       "    </tr>\n",
       "    <tr>\n",
       "      <th>2</th>\n",
       "      <td>2013-01-04</td>\n",
       "    </tr>\n",
       "    <tr>\n",
       "      <th>3</th>\n",
       "      <td>2013-01-05</td>\n",
       "    </tr>\n",
       "    <tr>\n",
       "      <th>4</th>\n",
       "      <td>2013-01-06</td>\n",
       "    </tr>\n",
       "    <tr>\n",
       "      <th>...</th>\n",
       "      <td>...</td>\n",
       "    </tr>\n",
       "    <tr>\n",
       "      <th>1682</th>\n",
       "      <td>2017-08-11</td>\n",
       "    </tr>\n",
       "    <tr>\n",
       "      <th>1683</th>\n",
       "      <td>2017-08-12</td>\n",
       "    </tr>\n",
       "    <tr>\n",
       "      <th>1684</th>\n",
       "      <td>2017-08-13</td>\n",
       "    </tr>\n",
       "    <tr>\n",
       "      <th>1685</th>\n",
       "      <td>2017-08-14</td>\n",
       "    </tr>\n",
       "    <tr>\n",
       "      <th>1686</th>\n",
       "      <td>2017-08-15</td>\n",
       "    </tr>\n",
       "  </tbody>\n",
       "</table>\n",
       "<p>1687 rows × 1 columns</p>\n",
       "</div>"
      ],
      "text/plain": [
       "           date\n",
       "0    2013-01-02\n",
       "1    2013-01-03\n",
       "2    2013-01-04\n",
       "3    2013-01-05\n",
       "4    2013-01-06\n",
       "...         ...\n",
       "1682 2017-08-11\n",
       "1683 2017-08-12\n",
       "1684 2017-08-13\n",
       "1685 2017-08-14\n",
       "1686 2017-08-15\n",
       "\n",
       "[1687 rows x 1 columns]"
      ]
     },
     "execution_count": 53,
     "metadata": {},
     "output_type": "execute_result"
    }
   ],
   "source": [
    "# Convert 'date' column to datetime format\n",
    "df_train['date'] = pd.to_datetime(df_train['date'])\n",
    "\n",
    "# Get the minimum and maximum dates in the dataset to create a full date range\n",
    "min_date = df_train['date'].min()\n",
    "max_date = df_train['date'].max()\n",
    "\n",
    "# Create full date range\n",
    "full_date_range = pd.DataFrame({'date': pd.date_range(min_date, max_date, freq='D')})\n",
    "full_date_range"
   ]
  },
  {
   "cell_type": "markdown",
   "metadata": {
    "id": "l06iyACq0Bh8"
   },
   "source": [
    "Next, let's create a DataFrame with all (store, item, date) combinations"
   ]
  },
  {
   "cell_type": "code",
   "execution_count": 54,
   "metadata": {},
   "outputs": [
    {
     "data": {
      "text/html": [
       "<div>\n",
       "<style scoped>\n",
       "    .dataframe tbody tr th:only-of-type {\n",
       "        vertical-align: middle;\n",
       "    }\n",
       "\n",
       "    .dataframe tbody tr th {\n",
       "        vertical-align: top;\n",
       "    }\n",
       "\n",
       "    .dataframe thead th {\n",
       "        text-align: right;\n",
       "    }\n",
       "</style>\n",
       "<table border=\"1\" class=\"dataframe\">\n",
       "  <thead>\n",
       "    <tr style=\"text-align: right;\">\n",
       "      <th></th>\n",
       "      <th>store_nbr</th>\n",
       "      <th>item_nbr</th>\n",
       "      <th>date</th>\n",
       "    </tr>\n",
       "  </thead>\n",
       "  <tbody>\n",
       "    <tr>\n",
       "      <th>0</th>\n",
       "      <td>32</td>\n",
       "      <td>1395693</td>\n",
       "      <td>2013-01-02</td>\n",
       "    </tr>\n",
       "    <tr>\n",
       "      <th>1</th>\n",
       "      <td>32</td>\n",
       "      <td>1395693</td>\n",
       "      <td>2013-01-03</td>\n",
       "    </tr>\n",
       "    <tr>\n",
       "      <th>2</th>\n",
       "      <td>32</td>\n",
       "      <td>1395693</td>\n",
       "      <td>2013-01-04</td>\n",
       "    </tr>\n",
       "    <tr>\n",
       "      <th>3</th>\n",
       "      <td>32</td>\n",
       "      <td>1395693</td>\n",
       "      <td>2013-01-05</td>\n",
       "    </tr>\n",
       "    <tr>\n",
       "      <th>4</th>\n",
       "      <td>32</td>\n",
       "      <td>1395693</td>\n",
       "      <td>2013-01-06</td>\n",
       "    </tr>\n",
       "    <tr>\n",
       "      <th>...</th>\n",
       "      <td>...</td>\n",
       "      <td>...</td>\n",
       "      <td>...</td>\n",
       "    </tr>\n",
       "    <tr>\n",
       "      <th>34711707</th>\n",
       "      <td>34</td>\n",
       "      <td>1304491</td>\n",
       "      <td>2017-08-11</td>\n",
       "    </tr>\n",
       "    <tr>\n",
       "      <th>34711708</th>\n",
       "      <td>34</td>\n",
       "      <td>1304491</td>\n",
       "      <td>2017-08-12</td>\n",
       "    </tr>\n",
       "    <tr>\n",
       "      <th>34711709</th>\n",
       "      <td>34</td>\n",
       "      <td>1304491</td>\n",
       "      <td>2017-08-13</td>\n",
       "    </tr>\n",
       "    <tr>\n",
       "      <th>34711710</th>\n",
       "      <td>34</td>\n",
       "      <td>1304491</td>\n",
       "      <td>2017-08-14</td>\n",
       "    </tr>\n",
       "    <tr>\n",
       "      <th>34711711</th>\n",
       "      <td>34</td>\n",
       "      <td>1304491</td>\n",
       "      <td>2017-08-15</td>\n",
       "    </tr>\n",
       "  </tbody>\n",
       "</table>\n",
       "<p>34711712 rows × 3 columns</p>\n",
       "</div>"
      ],
      "text/plain": [
       "          store_nbr  item_nbr       date\n",
       "0                32   1395693 2013-01-02\n",
       "1                32   1395693 2013-01-03\n",
       "2                32   1395693 2013-01-04\n",
       "3                32   1395693 2013-01-05\n",
       "4                32   1395693 2013-01-06\n",
       "...             ...       ...        ...\n",
       "34711707         34   1304491 2017-08-11\n",
       "34711708         34   1304491 2017-08-12\n",
       "34711709         34   1304491 2017-08-13\n",
       "34711710         34   1304491 2017-08-14\n",
       "34711711         34   1304491 2017-08-15\n",
       "\n",
       "[34711712 rows x 3 columns]"
      ]
     },
     "execution_count": 54,
     "metadata": {},
     "output_type": "execute_result"
    }
   ],
   "source": [
    "# # Get unique store-item pairs\n",
    "store_item_combinations = df_train[['store_nbr', 'item_nbr']].drop_duplicates()\n",
    "\n",
    "# Cartesian product: store × item × date combinations\n",
    "all_combinations = store_item_combinations.merge(full_date_range, how='cross') # Use how='cross' for Cartesian product\n",
    "all_combinations"
   ]
  },
  {
   "cell_type": "markdown",
   "metadata": {
    "id": "LeScVGOaLcOP"
   },
   "source": [
    "now we are finally ready to fill up the original data with missing dates by merging two dataframes"
   ]
  },
  {
   "cell_type": "code",
   "execution_count": 55,
   "metadata": {
    "colab": {
     "base_uri": "https://localhost:8080/"
    },
    "id": "CKipm-KbLbWD",
    "outputId": "818d01e0-0701-4f42-8115-2bfaa9559b05"
   },
   "outputs": [
    {
     "data": {
      "text/html": [
       "<div>\n",
       "<style scoped>\n",
       "    .dataframe tbody tr th:only-of-type {\n",
       "        vertical-align: middle;\n",
       "    }\n",
       "\n",
       "    .dataframe tbody tr th {\n",
       "        vertical-align: top;\n",
       "    }\n",
       "\n",
       "    .dataframe thead th {\n",
       "        text-align: right;\n",
       "    }\n",
       "</style>\n",
       "<table border=\"1\" class=\"dataframe\">\n",
       "  <thead>\n",
       "    <tr style=\"text-align: right;\">\n",
       "      <th></th>\n",
       "      <th>store_nbr</th>\n",
       "      <th>item_nbr</th>\n",
       "      <th>date</th>\n",
       "      <th>id</th>\n",
       "      <th>unit_sales</th>\n",
       "      <th>onpromotion</th>\n",
       "    </tr>\n",
       "  </thead>\n",
       "  <tbody>\n",
       "    <tr>\n",
       "      <th>0</th>\n",
       "      <td>32</td>\n",
       "      <td>1395693</td>\n",
       "      <td>2013-01-02</td>\n",
       "      <td>NaN</td>\n",
       "      <td>0.0</td>\n",
       "      <td>NaN</td>\n",
       "    </tr>\n",
       "    <tr>\n",
       "      <th>1</th>\n",
       "      <td>32</td>\n",
       "      <td>1395693</td>\n",
       "      <td>2013-01-03</td>\n",
       "      <td>NaN</td>\n",
       "      <td>0.0</td>\n",
       "      <td>NaN</td>\n",
       "    </tr>\n",
       "    <tr>\n",
       "      <th>2</th>\n",
       "      <td>32</td>\n",
       "      <td>1395693</td>\n",
       "      <td>2013-01-04</td>\n",
       "      <td>NaN</td>\n",
       "      <td>0.0</td>\n",
       "      <td>NaN</td>\n",
       "    </tr>\n",
       "    <tr>\n",
       "      <th>3</th>\n",
       "      <td>32</td>\n",
       "      <td>1395693</td>\n",
       "      <td>2013-01-05</td>\n",
       "      <td>NaN</td>\n",
       "      <td>0.0</td>\n",
       "      <td>NaN</td>\n",
       "    </tr>\n",
       "    <tr>\n",
       "      <th>4</th>\n",
       "      <td>32</td>\n",
       "      <td>1395693</td>\n",
       "      <td>2013-01-06</td>\n",
       "      <td>NaN</td>\n",
       "      <td>0.0</td>\n",
       "      <td>NaN</td>\n",
       "    </tr>\n",
       "  </tbody>\n",
       "</table>\n",
       "</div>"
      ],
      "text/plain": [
       "   store_nbr  item_nbr       date  id  unit_sales onpromotion\n",
       "0         32   1395693 2013-01-02 NaN         0.0         NaN\n",
       "1         32   1395693 2013-01-03 NaN         0.0         NaN\n",
       "2         32   1395693 2013-01-04 NaN         0.0         NaN\n",
       "3         32   1395693 2013-01-05 NaN         0.0         NaN\n",
       "4         32   1395693 2013-01-06 NaN         0.0         NaN"
      ]
     },
     "execution_count": 55,
     "metadata": {},
     "output_type": "execute_result"
    }
   ],
   "source": [
    "# Merge with original data to fill missing dates\n",
    "df_filled = all_combinations.merge(df_train,\n",
    "                                   on = ['store_nbr', 'item_nbr', 'date'],\n",
    "                                   how ='left')\n",
    "# Fill missing sales values with 0\n",
    "df_filled['unit_sales'] = df_filled['unit_sales'].fillna(0)\n",
    "\n",
    "# Check the first few rows\n",
    "df_filled.head(5)"
   ]
  },
  {
   "cell_type": "markdown",
   "metadata": {
    "id": "6ZJIy7BDLwDj"
   },
   "source": [
    "Now we have all dates and corresponding sales for them. Let's replace the original dataframe"
   ]
  },
  {
   "cell_type": "code",
   "execution_count": 56,
   "metadata": {},
   "outputs": [],
   "source": [
    "# Assign final df_filled version to df_train\n",
    "df_train = df_filled\n",
    "\n",
    "del df_filled    # now safe to delete"
   ]
  },
  {
   "cell_type": "markdown",
   "metadata": {
    "id": "wkTE-_gVuimz"
   },
   "source": [
    "**Step 3.5. Feature Engineering**\n",
    "\n",
    "This is a critical step to extract meaningful signals from our raw data. The goal is to enrich our df_train DataFrame with as much predictive information /features as possible that help the model understand the patterns in the sales data."
   ]
  },
  {
   "cell_type": "markdown",
   "metadata": {
    "id": "6F3R5zlMu7PM"
   },
   "source": [
    "**A - Time-Based Features**\n",
    "\n",
    "These features capture the inherent seasonality and cyclical patterns of your data."
   ]
  },
  {
   "cell_type": "code",
   "execution_count": 57,
   "metadata": {},
   "outputs": [],
   "source": [
    "# Convert date column to datetime\n",
    "df_train['date'] = pd.to_datetime(df_train['date'])\n",
    "\n",
    "# Creating new time-based features\n",
    "df_train['year'] = df_train['date'].dt.year\n",
    "df_train['month'] = df_train['date'].dt.month\n",
    "df_train['day'] = df_train['date'].dt.day\n",
    "df_train['day_of_week'] = df_train['date'].dt.dayofweek  # Monday=0, Sunday=6\n",
    "df_train['is_weekend'] = df_train['day_of_week'].isin([5, 6]).astype(int)"
   ]
  },
  {
   "cell_type": "markdown",
   "metadata": {
    "id": "7KgFwN2uH-df"
   },
   "source": [
    " **B. Lag features (memory from past days)**\n",
    "\n",
    "Useful for models like XGBoost or LSTM to learn temporal dependencies. we'll need to use groupby to create these features."
   ]
  },
  {
   "cell_type": "code",
   "execution_count": 58,
   "metadata": {
    "id": "IeS9zbvht-CS"
   },
   "outputs": [],
   "source": [
    "# Lag features (per store and item)\n",
    "df_train['lag_1'] = df_train.groupby(['store_nbr', 'item_nbr'])['unit_sales'].shift(1)\n",
    "df_train['lag_7'] = df_train.groupby(['store_nbr', 'item_nbr'])['unit_sales'].shift(7)\n",
    "df_train['lag_30'] = df_train.groupby(['store_nbr', 'item_nbr'])['unit_sales'].shift(30)\n"
   ]
  },
  {
   "cell_type": "markdown",
   "metadata": {
    "id": "evub-7aCI-cO"
   },
   "source": [
    "**C. Rolling/Expanding Features**\n",
    "\n",
    "Helps capture smoothed trends"
   ]
  },
  {
   "cell_type": "code",
   "execution_count": 59,
   "metadata": {},
   "outputs": [],
   "source": [
    "# Calculating rolling average/mean of unit_sales\n",
    "df_train['rolling_mean_7'] = df_train.groupby(['item_nbr', 'store_nbr'])['unit_sales'].shift(1).rolling(window=7).mean()\n",
    "\n",
    "# Rolling statistics\n",
    "df_train['rolling_std_7'] = df_train.groupby(['store_nbr', 'item_nbr'])['unit_sales'].shift(1).rolling(window=7).std()\n"
   ]
  },
  {
   "cell_type": "code",
   "execution_count": 60,
   "metadata": {},
   "outputs": [
    {
     "data": {
      "text/html": [
       "<div>\n",
       "<style scoped>\n",
       "    .dataframe tbody tr th:only-of-type {\n",
       "        vertical-align: middle;\n",
       "    }\n",
       "\n",
       "    .dataframe tbody tr th {\n",
       "        vertical-align: top;\n",
       "    }\n",
       "\n",
       "    .dataframe thead th {\n",
       "        text-align: right;\n",
       "    }\n",
       "</style>\n",
       "<table border=\"1\" class=\"dataframe\">\n",
       "  <thead>\n",
       "    <tr style=\"text-align: right;\">\n",
       "      <th></th>\n",
       "      <th>store_nbr</th>\n",
       "      <th>item_nbr</th>\n",
       "      <th>date</th>\n",
       "      <th>id</th>\n",
       "      <th>unit_sales</th>\n",
       "      <th>onpromotion</th>\n",
       "      <th>year</th>\n",
       "      <th>month</th>\n",
       "      <th>day</th>\n",
       "      <th>day_of_week</th>\n",
       "      <th>is_weekend</th>\n",
       "      <th>lag_1</th>\n",
       "      <th>lag_7</th>\n",
       "      <th>lag_30</th>\n",
       "      <th>rolling_mean_7</th>\n",
       "      <th>rolling_std_7</th>\n",
       "    </tr>\n",
       "  </thead>\n",
       "  <tbody>\n",
       "    <tr>\n",
       "      <th>0</th>\n",
       "      <td>32</td>\n",
       "      <td>1395693</td>\n",
       "      <td>2013-01-02</td>\n",
       "      <td>NaN</td>\n",
       "      <td>0.0</td>\n",
       "      <td>NaN</td>\n",
       "      <td>2013</td>\n",
       "      <td>1</td>\n",
       "      <td>2</td>\n",
       "      <td>2</td>\n",
       "      <td>0</td>\n",
       "      <td>NaN</td>\n",
       "      <td>NaN</td>\n",
       "      <td>NaN</td>\n",
       "      <td>NaN</td>\n",
       "      <td>NaN</td>\n",
       "    </tr>\n",
       "    <tr>\n",
       "      <th>1</th>\n",
       "      <td>32</td>\n",
       "      <td>1395693</td>\n",
       "      <td>2013-01-03</td>\n",
       "      <td>NaN</td>\n",
       "      <td>0.0</td>\n",
       "      <td>NaN</td>\n",
       "      <td>2013</td>\n",
       "      <td>1</td>\n",
       "      <td>3</td>\n",
       "      <td>3</td>\n",
       "      <td>0</td>\n",
       "      <td>0.0</td>\n",
       "      <td>NaN</td>\n",
       "      <td>NaN</td>\n",
       "      <td>NaN</td>\n",
       "      <td>NaN</td>\n",
       "    </tr>\n",
       "    <tr>\n",
       "      <th>2</th>\n",
       "      <td>32</td>\n",
       "      <td>1395693</td>\n",
       "      <td>2013-01-04</td>\n",
       "      <td>NaN</td>\n",
       "      <td>0.0</td>\n",
       "      <td>NaN</td>\n",
       "      <td>2013</td>\n",
       "      <td>1</td>\n",
       "      <td>4</td>\n",
       "      <td>4</td>\n",
       "      <td>0</td>\n",
       "      <td>0.0</td>\n",
       "      <td>NaN</td>\n",
       "      <td>NaN</td>\n",
       "      <td>NaN</td>\n",
       "      <td>NaN</td>\n",
       "    </tr>\n",
       "    <tr>\n",
       "      <th>3</th>\n",
       "      <td>32</td>\n",
       "      <td>1395693</td>\n",
       "      <td>2013-01-05</td>\n",
       "      <td>NaN</td>\n",
       "      <td>0.0</td>\n",
       "      <td>NaN</td>\n",
       "      <td>2013</td>\n",
       "      <td>1</td>\n",
       "      <td>5</td>\n",
       "      <td>5</td>\n",
       "      <td>1</td>\n",
       "      <td>0.0</td>\n",
       "      <td>NaN</td>\n",
       "      <td>NaN</td>\n",
       "      <td>NaN</td>\n",
       "      <td>NaN</td>\n",
       "    </tr>\n",
       "    <tr>\n",
       "      <th>4</th>\n",
       "      <td>32</td>\n",
       "      <td>1395693</td>\n",
       "      <td>2013-01-06</td>\n",
       "      <td>NaN</td>\n",
       "      <td>0.0</td>\n",
       "      <td>NaN</td>\n",
       "      <td>2013</td>\n",
       "      <td>1</td>\n",
       "      <td>6</td>\n",
       "      <td>6</td>\n",
       "      <td>1</td>\n",
       "      <td>0.0</td>\n",
       "      <td>NaN</td>\n",
       "      <td>NaN</td>\n",
       "      <td>NaN</td>\n",
       "      <td>NaN</td>\n",
       "    </tr>\n",
       "    <tr>\n",
       "      <th>5</th>\n",
       "      <td>32</td>\n",
       "      <td>1395693</td>\n",
       "      <td>2013-01-07</td>\n",
       "      <td>NaN</td>\n",
       "      <td>0.0</td>\n",
       "      <td>NaN</td>\n",
       "      <td>2013</td>\n",
       "      <td>1</td>\n",
       "      <td>7</td>\n",
       "      <td>0</td>\n",
       "      <td>0</td>\n",
       "      <td>0.0</td>\n",
       "      <td>NaN</td>\n",
       "      <td>NaN</td>\n",
       "      <td>NaN</td>\n",
       "      <td>NaN</td>\n",
       "    </tr>\n",
       "    <tr>\n",
       "      <th>6</th>\n",
       "      <td>32</td>\n",
       "      <td>1395693</td>\n",
       "      <td>2013-01-08</td>\n",
       "      <td>NaN</td>\n",
       "      <td>0.0</td>\n",
       "      <td>NaN</td>\n",
       "      <td>2013</td>\n",
       "      <td>1</td>\n",
       "      <td>8</td>\n",
       "      <td>1</td>\n",
       "      <td>0</td>\n",
       "      <td>0.0</td>\n",
       "      <td>NaN</td>\n",
       "      <td>NaN</td>\n",
       "      <td>NaN</td>\n",
       "      <td>NaN</td>\n",
       "    </tr>\n",
       "    <tr>\n",
       "      <th>7</th>\n",
       "      <td>32</td>\n",
       "      <td>1395693</td>\n",
       "      <td>2013-01-09</td>\n",
       "      <td>NaN</td>\n",
       "      <td>0.0</td>\n",
       "      <td>NaN</td>\n",
       "      <td>2013</td>\n",
       "      <td>1</td>\n",
       "      <td>9</td>\n",
       "      <td>2</td>\n",
       "      <td>0</td>\n",
       "      <td>0.0</td>\n",
       "      <td>0.0</td>\n",
       "      <td>NaN</td>\n",
       "      <td>0.0</td>\n",
       "      <td>0.0</td>\n",
       "    </tr>\n",
       "    <tr>\n",
       "      <th>8</th>\n",
       "      <td>32</td>\n",
       "      <td>1395693</td>\n",
       "      <td>2013-01-10</td>\n",
       "      <td>NaN</td>\n",
       "      <td>0.0</td>\n",
       "      <td>NaN</td>\n",
       "      <td>2013</td>\n",
       "      <td>1</td>\n",
       "      <td>10</td>\n",
       "      <td>3</td>\n",
       "      <td>0</td>\n",
       "      <td>0.0</td>\n",
       "      <td>0.0</td>\n",
       "      <td>NaN</td>\n",
       "      <td>0.0</td>\n",
       "      <td>0.0</td>\n",
       "    </tr>\n",
       "    <tr>\n",
       "      <th>9</th>\n",
       "      <td>32</td>\n",
       "      <td>1395693</td>\n",
       "      <td>2013-01-11</td>\n",
       "      <td>NaN</td>\n",
       "      <td>0.0</td>\n",
       "      <td>NaN</td>\n",
       "      <td>2013</td>\n",
       "      <td>1</td>\n",
       "      <td>11</td>\n",
       "      <td>4</td>\n",
       "      <td>0</td>\n",
       "      <td>0.0</td>\n",
       "      <td>0.0</td>\n",
       "      <td>NaN</td>\n",
       "      <td>0.0</td>\n",
       "      <td>0.0</td>\n",
       "    </tr>\n",
       "  </tbody>\n",
       "</table>\n",
       "</div>"
      ],
      "text/plain": [
       "   store_nbr  item_nbr       date  id  unit_sales onpromotion  year  month  \\\n",
       "0         32   1395693 2013-01-02 NaN         0.0         NaN  2013      1   \n",
       "1         32   1395693 2013-01-03 NaN         0.0         NaN  2013      1   \n",
       "2         32   1395693 2013-01-04 NaN         0.0         NaN  2013      1   \n",
       "3         32   1395693 2013-01-05 NaN         0.0         NaN  2013      1   \n",
       "4         32   1395693 2013-01-06 NaN         0.0         NaN  2013      1   \n",
       "5         32   1395693 2013-01-07 NaN         0.0         NaN  2013      1   \n",
       "6         32   1395693 2013-01-08 NaN         0.0         NaN  2013      1   \n",
       "7         32   1395693 2013-01-09 NaN         0.0         NaN  2013      1   \n",
       "8         32   1395693 2013-01-10 NaN         0.0         NaN  2013      1   \n",
       "9         32   1395693 2013-01-11 NaN         0.0         NaN  2013      1   \n",
       "\n",
       "   day  day_of_week  is_weekend  lag_1  lag_7  lag_30  rolling_mean_7  \\\n",
       "0    2            2           0    NaN    NaN     NaN             NaN   \n",
       "1    3            3           0    0.0    NaN     NaN             NaN   \n",
       "2    4            4           0    0.0    NaN     NaN             NaN   \n",
       "3    5            5           1    0.0    NaN     NaN             NaN   \n",
       "4    6            6           1    0.0    NaN     NaN             NaN   \n",
       "5    7            0           0    0.0    NaN     NaN             NaN   \n",
       "6    8            1           0    0.0    NaN     NaN             NaN   \n",
       "7    9            2           0    0.0    0.0     NaN             0.0   \n",
       "8   10            3           0    0.0    0.0     NaN             0.0   \n",
       "9   11            4           0    0.0    0.0     NaN             0.0   \n",
       "\n",
       "   rolling_std_7  \n",
       "0            NaN  \n",
       "1            NaN  \n",
       "2            NaN  \n",
       "3            NaN  \n",
       "4            NaN  \n",
       "5            NaN  \n",
       "6            NaN  \n",
       "7            0.0  \n",
       "8            0.0  \n",
       "9            0.0  "
      ]
     },
     "execution_count": 60,
     "metadata": {},
     "output_type": "execute_result"
    }
   ],
   "source": [
    "df_train.head(10)"
   ]
  },
  {
   "cell_type": "markdown",
   "metadata": {
    "id": "u5Sq_-zSNr28"
   },
   "source": [
    " **D. Oil Prices (external signal)**\n",
    "\n",
    " — Using df_oil"
   ]
  },
  {
   "cell_type": "code",
   "execution_count": 61,
   "metadata": {
    "colab": {
     "base_uri": "https://localhost:8080/",
     "height": 141
    },
    "id": "rs1lL-lzt98o",
    "outputId": "05053075-f601-457d-bf09-08270ae2aa01"
   },
   "outputs": [],
   "source": [
    "df_oil['date'] = pd.to_datetime(df_oil['date'])\n",
    "\n",
    "# Fill forward missing oil prices\n",
    "df_oil['dcoilwtico'].fillna(method='ffill', inplace=True)\n",
    "\n",
    "# Merge into df_train\n",
    "df_train = df_train.merge(df_oil, on='date', how='left')\n",
    "\n",
    "# fill remaining NaNs (if any)\n",
    "df_train['dcoilwtico'].fillna(method='bfill', inplace=True)\n"
   ]
  },
  {
   "cell_type": "code",
   "execution_count": 62,
   "metadata": {
    "colab": {
     "base_uri": "https://localhost:8080/",
     "height": 141
    },
    "id": "EcRksr3OUE0b",
    "outputId": "036de99a-6d0c-4ba7-a75a-ac28389c8b12"
   },
   "outputs": [],
   "source": [
    "# lag and roll the oil prices basically needed for ML\n",
    "df_train['dcoilwtico_lag1'] = df_train['dcoilwtico'].shift(1)\n",
    "\n",
    "# Since oil price is an external feature, we can roll on the original column.\n",
    "# But it's safer to shift it as well to avoid using the current day's data\n",
    "df_train['dcoilwtico_rolling7'] = df_train['dcoilwtico'].shift(1).rolling(window=7).mean()\n"
   ]
  },
  {
   "cell_type": "code",
   "execution_count": 65,
   "metadata": {},
   "outputs": [],
   "source": [
    "##**Merge other csv into dataframe df_train"
   ]
  },
  {
   "cell_type": "code",
   "execution_count": 66,
   "metadata": {},
   "outputs": [],
   "source": [
    "# IS_PERISHABLE (from df_items)\n",
    "# =========================\n",
    "df_train = df_train.merge(\n",
    "    df_items[['item_nbr', 'perishable']],\n",
    "    on='item_nbr',\n",
    "    how='left'\n",
    ")\n",
    "df_train['is_perishable'] = df_train['perishable'].fillna(0).astype(int)\n",
    "df_train.drop(columns=['perishable'], inplace=True)"
   ]
  },
  {
   "cell_type": "code",
   "execution_count": 67,
   "metadata": {},
   "outputs": [],
   "source": [
    "#. IS_HOLIDAY (from df_holiday_events)\n",
    "# =========================\n",
    "df_train['date'] = pd.to_datetime(df_train['date'])\n",
    "df_holiday_events['date'] = pd.to_datetime(df_holiday_events['date'])\n",
    "\n",
    "# Create holiday flag\n",
    "df_holiday_events['is_holiday'] = 1\n",
    "holiday_flags = df_holiday_events[['date', 'is_holiday']].drop_duplicates()\n",
    "\n",
    "# Merge on date\n",
    "df_train = df_train.merge(holiday_flags, on='date', how='left')\n",
    "df_train['is_holiday'] = df_train['is_holiday'].fillna(0).astype(int)"
   ]
  },
  {
   "cell_type": "code",
   "execution_count": 68,
   "metadata": {},
   "outputs": [],
   "source": [
    "# . TRANSACTIONS INFO (from df_transactions)\n",
    "# =========================\n",
    "df_transactions['date'] = pd.to_datetime(df_transactions['date'])\n",
    "df_train = df_train.merge(df_transactions, on=['date', 'store_nbr'], how='left')\n",
    "df_train['transactions'] = df_train['transactions'].fillna(0).astype(int)"
   ]
  },
  {
   "cell_type": "code",
   "execution_count": 69,
   "metadata": {},
   "outputs": [
    {
     "name": "stdout",
     "output_type": "stream",
     "text": [
      "<class 'pandas.core.frame.DataFrame'>\n",
      "RangeIndex: 34711712 entries, 0 to 34711711\n",
      "Data columns (total 22 columns):\n",
      " #   Column               Dtype         \n",
      "---  ------               -----         \n",
      " 0   store_nbr            int64         \n",
      " 1   item_nbr             int64         \n",
      " 2   date                 datetime64[ns]\n",
      " 3   id                   float64       \n",
      " 4   unit_sales           float64       \n",
      " 5   onpromotion          object        \n",
      " 6   year                 int32         \n",
      " 7   month                int32         \n",
      " 8   day                  int32         \n",
      " 9   day_of_week          int32         \n",
      " 10  is_weekend           int64         \n",
      " 11  lag_1                float64       \n",
      " 12  lag_7                float64       \n",
      " 13  lag_30               float64       \n",
      " 14  rolling_mean_7       float64       \n",
      " 15  rolling_std_7        float64       \n",
      " 16  dcoilwtico           float64       \n",
      " 17  dcoilwtico_lag1      float64       \n",
      " 18  dcoilwtico_rolling7  float64       \n",
      " 19  is_perishable        int64         \n",
      " 20  is_holiday           int64         \n",
      " 21  transactions         int64         \n",
      "dtypes: datetime64[ns](1), float64(10), int32(4), int64(6), object(1)\n",
      "memory usage: 5.2+ GB\n"
     ]
    }
   ],
   "source": [
    "df_train.info()"
   ]
  },
  {
   "cell_type": "code",
   "execution_count": 70,
   "metadata": {},
   "outputs": [],
   "source": [
    "df_train.to_pickle(\"df_train2.pkl\")"
   ]
  },
  {
   "cell_type": "code",
   "execution_count": 71,
   "metadata": {},
   "outputs": [],
   "source": [
    "# Load df_train quickly\n",
    "\n",
    "#df_train = pd.read_pickle(\"df_train.pkl\")\n"
   ]
  },
  {
   "cell_type": "code",
   "execution_count": null,
   "metadata": {},
   "outputs": [],
   "source": []
  },
  {
   "cell_type": "code",
   "execution_count": null,
   "metadata": {},
   "outputs": [],
   "source": []
  },
  {
   "cell_type": "markdown",
   "metadata": {
    "id": "pWSQ54BeZzjD"
   },
   "source": [
    "# Step 4-Visualizing Time-Series Data\n",
    "\n",
    "- creates insightful visualizations that apply to the entire Guayas region.\n"
   ]
  },
  {
   "cell_type": "markdown",
   "metadata": {
    "id": "8MDZsh7z0d_7"
   },
   "source": [
    "**Overall Sales Trend**\n",
    "\n",
    "A plot of the total sales over time for the entire region will reveal the macro trends and major events."
   ]
  },
  {
   "cell_type": "code",
   "execution_count": 72,
   "metadata": {
    "colab": {
     "base_uri": "https://localhost:8080/",
     "height": 141
    },
    "id": "GyqWhiIwz9mG",
    "outputId": "1d072c6f-b0b2-4b0c-f6fc-321229c96d06"
   },
   "outputs": [
    {
     "data": {
      "image/png": "[encoded data removed]",
      "text/plain": [
       "<Figure size 1200x600 with 1 Axes>"
      ]
     },
     "metadata": {},
     "output_type": "display_data"
    }
   ],
   "source": [
    "# Aggregating total sales by date\n",
    "sales_by_date = df_train.groupby('date')['unit_sales'].sum()\n",
    "\n",
    "# Plotting the time-series\n",
    "plt.figure(figsize=(12,6))\n",
    "plt.plot(sales_by_date.index, sales_by_date.values)\n",
    "plt.title('Total Unit Sales Over Time in Guayas state', fontsize=20, fontweight='bold')\n",
    "plt.xlabel('Date', fontsize=16)\n",
    "plt.ylabel('Unit Sales', fontsize=16)\n",
    "plt.xticks(fontsize=14, rotation=45)\n",
    "plt.yticks(fontsize=14)\n",
    "plt.show()"
   ]
  },
  {
   "cell_type": "markdown",
   "metadata": {
    "id": "hL_xZPwc0oqh"
   },
   "source": [
    "**monthly Seasonal Heatmap**\n",
    "\n",
    "A heatmap is an excellent way to visualize monthly sales patterns for the entire region."
   ]
  },
  {
   "cell_type": "code",
   "execution_count": 73,
   "metadata": {
    "colab": {
     "base_uri": "https://localhost:8080/",
     "height": 141
    },
    "id": "PgJz_Xt9t9pB",
    "outputId": "6c2ac816-f5d8-44eb-fd36-3247d2644dae"
   },
   "outputs": [
    {
     "data": {
      "text/plain": [
       "Text(0.5, 1.0, 'Monthly Sales Trends Over Years')"
      ]
     },
     "execution_count": 73,
     "metadata": {},
     "output_type": "execute_result"
    },
    {
     "data": {
      "image/png": "[encoded data removed]",
      "text/plain": [
       "<Figure size 640x480 with 2 Axes>"
      ]
     },
     "metadata": {},
     "output_type": "display_data"
    }
   ],
   "source": [
    "# Aggregating sales by year and month\n",
    "# .unstack(): reshapes the table so that: Each row is a year, Each column is a month (1–12), The values are total sales.\n",
    "\n",
    "sales_by_month = df_train.groupby(['year', 'month'])['unit_sales'].sum().unstack()\n",
    "\n",
    "#  Plotting heatmap of sales by year and month\n",
    "sns.heatmap(\n",
    "           sales_by_month, \n",
    "           cmap='coolwarm',                    # Use a diverging colormap for better contrast\n",
    "           linewidths=0.5,                     # Add lines between cells for clarity\n",
    "           linecolor='white',                  # Use white lines for a cleaner look\n",
    "           cbar_kws={'label': 'Sales Volume'}  # Add a descriptive colorbar label\n",
    ")\n",
    "\n",
    "\n",
    "plt.title('Monthly Sales Trends Over Years', fontsize=20, fontweight='bold')\n"
   ]
  },
  {
   "cell_type": "code",
   "execution_count": 74,
   "metadata": {},
   "outputs": [
    {
     "data": {
      "image/png": "[encoded data removed]",
      "text/plain": [
       "<Figure size 800x500 with 1 Axes>"
      ]
     },
     "metadata": {},
     "output_type": "display_data"
    }
   ],
   "source": [
    "# Weekly Seasonality → Bar Plot (mean sales by day of week with error)\n",
    "weekly = df_train.groupby(\"day_of_week\")[\"unit_sales\"].agg([\"mean\", \"std\"]).reset_index()\n",
    "\n",
    "plt.figure(figsize=(8,5))\n",
    "sns.barplot(data=weekly, x=\"day_of_week\", y=\"mean\", yerr=weekly[\"std\"], color=\"skyblue\")\n",
    "plt.title(\"Average Weekly Sales by Day of Week (± std)\")\n",
    "plt.xlabel(\"Day of Week (0=Mon, 6=Sun)\")\n",
    "plt.ylabel(\"Avg Unit Sales\")\n",
    "plt.show()"
   ]
  },
  {
   "cell_type": "code",
   "execution_count": null,
   "metadata": {},
   "outputs": [],
   "source": []
  },
  {
   "cell_type": "code",
   "execution_count": 75,
   "metadata": {},
   "outputs": [
    {
     "data": {
      "image/png": "[encoded data removed]",
      "text/plain": [
       "<Figure size 800x500 with 1 Axes>"
      ]
     },
     "metadata": {},
     "output_type": "display_data"
    }
   ],
   "source": [
    "# . Monthly Seasonality → Line Plot (trend across months + error bar)\n",
    "\n",
    "monthly = df_train.groupby(\"month\")[\"unit_sales\"].agg([\"mean\", \"std\"]).reset_index()\n",
    "\n",
    "plt.figure(figsize=(8,5))\n",
    "plt.errorbar(monthly[\"month\"], monthly[\"mean\"], yerr=monthly[\"std\"], fmt='-o', capsize=4)\n",
    "plt.title(\"Average Monthly Sales (± std)\")\n",
    "plt.xlabel(\"Month\")\n",
    "plt.ylabel(\"Avg Unit Sales\")\n",
    "plt.show()\n"
   ]
  },
  {
   "cell_type": "markdown",
   "metadata": {
    "id": "WsuVzWgxbFm2"
   },
   "source": [
    "### **Step 5: Examining the Impact of Holidays on sales**"
   ]
  },
  {
   "cell_type": "code",
   "execution_count": 76,
   "metadata": {},
   "outputs": [
    {
     "data": {
      "image/png": "[encoded data removed]",
      "text/plain": [
       "<Figure size 600x500 with 1 Axes>"
      ]
     },
     "metadata": {},
     "output_type": "display_data"
    }
   ],
   "source": [
    "holiday = df_train.groupby(\"is_holiday\")[\"unit_sales\"].agg([\"mean\", \"std\"]).reset_index()\n",
    "\n",
    "plt.figure(figsize=(6,5))\n",
    "plt.bar(holiday['is_holiday'], holiday['mean'], yerr=holiday['std'], capsize=5, color='skyblue')\n",
    "plt.title(\"Effect of Holidays on Sales (± std)\")\n",
    "plt.xlabel(\"Holiday (0=No, 1=Yes)\")\n",
    "plt.ylabel(\"Avg Unit Sales\")\n",
    "plt.show()\n"
   ]
  },
  {
   "cell_type": "markdown",
   "metadata": {
    "id": "VulowaEPZB4K"
   },
   "source": [
    "### Step 6: Analyzing Perishable Items  "
   ]
  },
  {
   "cell_type": "code",
   "execution_count": 77,
   "metadata": {
    "colab": {
     "base_uri": "https://localhost:8080/",
     "height": 141
    },
    "id": "DdILJiRRY-BA",
    "outputId": "47fe87c4-ffa0-414c-d72b-ac8534b2c9f7",
    "scrolled": true
   },
   "outputs": [],
   "source": [
    "# Perishables vs Non-Perishables → Bar Plot\n",
    "\n",
    "if \"perishable\" in df_train.columns:\n",
    "    perish = df_train.groupby(\"perishable\")[\"unit_sales\"].mean().reset_index()\n",
    "\n",
    "    plt.figure(figsize=(6,5))\n",
    "    sns.barplot(data=perish, x=\"perishable\", y=\"unit_sales\", palette=\"muted\")\n",
    "    plt.title(\"Perishable vs Non-Perishable Sales\")\n",
    "    plt.xlabel(\"Perishable (0=No, 1=Yes)\")\n",
    "    plt.ylabel(\"Avg Unit Sales\")\n",
    "    plt.show()\n",
    "            "
   ]
  },
  {
   "cell_type": "code",
   "execution_count": 78,
   "metadata": {},
   "outputs": [],
   "source": [
    "### Step 7: Promotions Impact "
   ]
  },
  {
   "cell_type": "code",
   "execution_count": 79,
   "metadata": {},
   "outputs": [
    {
     "data": {
      "image/png": "[encoded data removed]",
      "text/plain": [
       "<Figure size 600x500 with 1 Axes>"
      ]
     },
     "metadata": {},
     "output_type": "display_data"
    }
   ],
   "source": [
    "promo = df_train.groupby(\"onpromotion\")[\"unit_sales\"].agg([\"mean\", \"std\"]).reset_index()\n",
    "\n",
    "plt.figure(figsize=(6,5))\n",
    "plt.bar(promo['onpromotion'], promo['mean'], yerr=promo['std'], capsize=5, color='skyblue')\n",
    "plt.title(\"Effect of Promotions on Sales (± std)\")\n",
    "plt.xlabel(\"On Promotion (0=No, 1=Yes)\")\n",
    "plt.ylabel(\"Avg Unit Sales\")\n",
    "plt.show()\n",
    "\n"
   ]
  },
  {
   "cell_type": "markdown",
   "metadata": {
    "id": "2lXtL_oaZ5CO"
   },
   "source": [
    "Oil Prices vs Sales- Does sales volume go up/down when oil prices rise?"
   ]
  },
  {
   "cell_type": "code",
   "execution_count": 80,
   "metadata": {},
   "outputs": [
    {
     "data": {
      "image/png": "[encoded data removed]",
      "text/plain": [
       "<Figure size 1200x600 with 1 Axes>"
      ]
     },
     "metadata": {},
     "output_type": "display_data"
    }
   ],
   "source": [
    "# Create 20 bins of oil prices\n",
    "df_train['oil_bin'] = pd.cut(df_train['dcoilwtico'], bins=20)\n",
    "\n",
    "# . Aggregate mean & std of sales per bin\n",
    "oil_sales = df_train.groupby('oil_bin')['unit_sales'].agg(['mean', 'std']).reset_index()\n",
    "# Use the midpoint of each bin for plotting\n",
    "oil_sales['oil_mid'] = oil_sales['oil_bin'].apply(lambda x: x.mid)\n",
    "\n",
    "# Plot mean ± std with error bars\n",
    "plt.figure(figsize=(12,6))\n",
    "plt.errorbar(oil_sales['oil_mid'], oil_sales['mean'], yerr=oil_sales['std'], fmt='o-', capsize=5, color='green')\n",
    "plt.title(\"Average Unit Sales vs Oil Price (± std)\")\n",
    "plt.xlabel(\"Oil Price (dcoilwtico)\")\n",
    "plt.ylabel(\"Average Unit Sales\")\n",
    "plt.grid(alpha=0.3)\n",
    "plt.show()\n"
   ]
  },
  {
   "cell_type": "code",
   "execution_count": 81,
   "metadata": {},
   "outputs": [
    {
     "data": {
      "text/html": [
       "<div>\n",
       "<style scoped>\n",
       "    .dataframe tbody tr th:only-of-type {\n",
       "        vertical-align: middle;\n",
       "    }\n",
       "\n",
       "    .dataframe tbody tr th {\n",
       "        vertical-align: top;\n",
       "    }\n",
       "\n",
       "    .dataframe thead th {\n",
       "        text-align: right;\n",
       "    }\n",
       "</style>\n",
       "<table border=\"1\" class=\"dataframe\">\n",
       "  <thead>\n",
       "    <tr style=\"text-align: right;\">\n",
       "      <th></th>\n",
       "      <th>unit_sales</th>\n",
       "      <th>dcoilwtico</th>\n",
       "    </tr>\n",
       "  </thead>\n",
       "  <tbody>\n",
       "    <tr>\n",
       "      <th>unit_sales</th>\n",
       "      <td>1.000000</td>\n",
       "      <td>-0.018819</td>\n",
       "    </tr>\n",
       "    <tr>\n",
       "      <th>dcoilwtico</th>\n",
       "      <td>-0.018819</td>\n",
       "      <td>1.000000</td>\n",
       "    </tr>\n",
       "  </tbody>\n",
       "</table>\n",
       "</div>"
      ],
      "text/plain": [
       "            unit_sales  dcoilwtico\n",
       "unit_sales    1.000000   -0.018819\n",
       "dcoilwtico   -0.018819    1.000000"
      ]
     },
     "execution_count": 81,
     "metadata": {},
     "output_type": "execute_result"
    }
   ],
   "source": [
    "# compute correlation:\n",
    "df_train[['unit_sales', 'dcoilwtico']].corr()"
   ]
  },
  {
   "cell_type": "markdown",
   "metadata": {
    "id": "4TzOfvowaIfp"
   },
   "source": [
    "This means there's a moderate negative correlation between oil prices (dcoilwtico) and unit sales"
   ]
  },
  {
   "cell_type": "code",
   "execution_count": 82,
   "metadata": {
    "id": "eY_EJX4UetHv"
   },
   "outputs": [
    {
     "data": {
      "text/plain": [
       "(34711712, 23)"
      ]
     },
     "execution_count": 82,
     "metadata": {},
     "output_type": "execute_result"
    }
   ],
   "source": [
    "df_train.shape"
   ]
  },
  {
   "cell_type": "code",
   "execution_count": 83,
   "metadata": {},
   "outputs": [],
   "source": [
    "df_train.to_pickle(\"df_train3.pkl\")"
   ]
  }
 ],
 "metadata": {
  "accelerator": "TPU",
  "colab": {
   "gpuType": "V28",
   "provenance": []
  },
  "kernelspec": {
   "display_name": "Python 3 (ipykernel)",
   "language": "python",
   "name": "python3"
  },
  "language_info": {
   "codemirror_mode": {
    "name": "ipython",
    "version": 3
   },
   "file_extension": ".py",
   "mimetype": "text/x-python",
   "name": "python",
   "nbconvert_exporter": "python",
   "pygments_lexer": "ipython3",
   "version": "3.12.5"
  }
 },
 "nbformat": 4,
 "nbformat_minor": 4
}
